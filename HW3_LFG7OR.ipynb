{
 "cells": [
  {
   "cell_type": "markdown",
   "metadata": {},
   "source": [
    "# HW3- Stumphauser Nóra - LFG7OR "
   ]
  },
  {
   "cell_type": "markdown",
   "metadata": {},
   "source": [
    "Download data from http://idojarasbudapest.hu/archivalt-idojaras (I copy-paste it from the website to Excel) and load it"
   ]
  },
  {
   "cell_type": "code",
   "execution_count": 156,
   "metadata": {},
   "outputs": [],
   "source": [
    "import pandas as pd\n",
    "import numpy as np\n",
    "import matplotlib.pyplot as plt\n",
    "import tensorflow as tf\n",
    "from sklearn.model_selection import train_test_split"
   ]
  },
  {
   "cell_type": "code",
   "execution_count": 157,
   "metadata": {},
   "outputs": [],
   "source": [
    "data = pd.read_excel('data.xlsx')"
   ]
  },
  {
   "cell_type": "markdown",
   "metadata": {},
   "source": [
    "Creating average temperature for each day."
   ]
  },
  {
   "cell_type": "code",
   "execution_count": 158,
   "metadata": {},
   "outputs": [],
   "source": [
    "avg = []\n",
    "for i in range(len(data)):\n",
    "    avg.append((data['temp_max'][i]+data['temp_min'][i])/2)"
   ]
  },
  {
   "cell_type": "code",
   "execution_count": 159,
   "metadata": {},
   "outputs": [],
   "source": [
    "data['avg'] = avg\n",
    "data = data.drop(['temp_max', 'temp_min'], axis=1)"
   ]
  },
  {
   "cell_type": "code",
   "execution_count": 160,
   "metadata": {},
   "outputs": [
    {
     "data": {
      "text/html": [
       "<div>\n",
       "<style scoped>\n",
       "    .dataframe tbody tr th:only-of-type {\n",
       "        vertical-align: middle;\n",
       "    }\n",
       "\n",
       "    .dataframe tbody tr th {\n",
       "        vertical-align: top;\n",
       "    }\n",
       "\n",
       "    .dataframe thead th {\n",
       "        text-align: right;\n",
       "    }\n",
       "</style>\n",
       "<table border=\"1\" class=\"dataframe\">\n",
       "  <thead>\n",
       "    <tr style=\"text-align: right;\">\n",
       "      <th></th>\n",
       "      <th>avg</th>\n",
       "    </tr>\n",
       "  </thead>\n",
       "  <tbody>\n",
       "    <tr>\n",
       "      <th>0</th>\n",
       "      <td>1.60</td>\n",
       "    </tr>\n",
       "    <tr>\n",
       "      <th>1</th>\n",
       "      <td>1.40</td>\n",
       "    </tr>\n",
       "    <tr>\n",
       "      <th>2</th>\n",
       "      <td>0.85</td>\n",
       "    </tr>\n",
       "    <tr>\n",
       "      <th>3</th>\n",
       "      <td>3.90</td>\n",
       "    </tr>\n",
       "    <tr>\n",
       "      <th>4</th>\n",
       "      <td>1.40</td>\n",
       "    </tr>\n",
       "    <tr>\n",
       "      <th>...</th>\n",
       "      <td>...</td>\n",
       "    </tr>\n",
       "    <tr>\n",
       "      <th>294</th>\n",
       "      <td>12.75</td>\n",
       "    </tr>\n",
       "    <tr>\n",
       "      <th>295</th>\n",
       "      <td>13.00</td>\n",
       "    </tr>\n",
       "    <tr>\n",
       "      <th>296</th>\n",
       "      <td>13.60</td>\n",
       "    </tr>\n",
       "    <tr>\n",
       "      <th>297</th>\n",
       "      <td>15.00</td>\n",
       "    </tr>\n",
       "    <tr>\n",
       "      <th>298</th>\n",
       "      <td>13.10</td>\n",
       "    </tr>\n",
       "  </tbody>\n",
       "</table>\n",
       "<p>299 rows × 1 columns</p>\n",
       "</div>"
      ],
      "text/plain": [
       "       avg\n",
       "0     1.60\n",
       "1     1.40\n",
       "2     0.85\n",
       "3     3.90\n",
       "4     1.40\n",
       "..     ...\n",
       "294  12.75\n",
       "295  13.00\n",
       "296  13.60\n",
       "297  15.00\n",
       "298  13.10\n",
       "\n",
       "[299 rows x 1 columns]"
      ]
     },
     "execution_count": 160,
     "metadata": {},
     "output_type": "execute_result"
    }
   ],
   "source": [
    "data"
   ]
  },
  {
   "cell_type": "code",
   "execution_count": 161,
   "metadata": {},
   "outputs": [
    {
     "data": {
      "text/plain": [
       "(299,)"
      ]
     },
     "execution_count": 161,
     "metadata": {},
     "output_type": "execute_result"
    }
   ],
   "source": [
    "X = np.array(data['avg'])\n",
    "X.shape"
   ]
  },
  {
   "cell_type": "markdown",
   "metadata": {},
   "source": [
    "## 1-D Conv"
   ]
  },
  {
   "cell_type": "markdown",
   "metadata": {},
   "source": [
    "I used the code of lecture 7 from GitHub."
   ]
  },
  {
   "cell_type": "code",
   "execution_count": 20,
   "metadata": {},
   "outputs": [],
   "source": [
    "import numpy as np\n",
    "from tensorflow.keras.models import Sequential\n",
    "from tensorflow.keras.layers import Activation, Dense, Flatten, Conv1D, MaxPooling1D\n",
    "from tensorflow.keras.optimizers import SGD\n",
    "import matplotlib.pyplot as plt"
   ]
  },
  {
   "cell_type": "code",
   "execution_count": 244,
   "metadata": {},
   "outputs": [],
   "source": [
    "def make_1d_convnet(window_size, filter_length, nb_input_series=1, nb_outputs=1, nb_filter=4):\n",
    "    model = Sequential()\n",
    "    model.add(Conv1D(filters=nb_filter, kernel_size=filter_length, activation='relu', input_shape=(window_size, nb_input_series)))\n",
    "    model.add(MaxPooling1D())\n",
    "    model.add(Flatten())\n",
    "    model.add(Dense(nb_outputs, activation='linear'))\n",
    "    model.compile(loss='mse', optimizer='adam', metrics=['mae'])\n",
    "    return model"
   ]
  },
  {
   "cell_type": "code",
   "execution_count": 56,
   "metadata": {},
   "outputs": [],
   "source": [
    "def make_timeseries_instances(timeseries, window_size):\n",
    "    timeseries = np.asarray(timeseries)\n",
    "    assert 0 < window_size < timeseries.shape[0] , \"Out of range 0 < {} < {} \".format(window_size,timeseries.shape[0])\n",
    "    X = np.atleast_3d(np.array([timeseries[start:start + window_size] for start in range(0, timeseries.shape[0] - window_size)]))\n",
    "    Y = timeseries[window_size:]\n",
    "    return X, Y"
   ]
  },
  {
   "cell_type": "markdown",
   "metadata": {},
   "source": [
    "Plot the data"
   ]
  },
  {
   "cell_type": "code",
   "execution_count": 57,
   "metadata": {},
   "outputs": [
    {
     "data": {
      "text/plain": [
       "[<matplotlib.lines.Line2D at 0x2e52bcc34c0>]"
      ]
     },
     "execution_count": 57,
     "metadata": {},
     "output_type": "execute_result"
    },
    {
     "data": {
      "image/png": "[encoded data removed]",
      "text/plain": [
       "<Figure size 864x576 with 1 Axes>"
      ]
     },
     "metadata": {
      "needs_background": "light"
     },
     "output_type": "display_data"
    }
   ],
   "source": [
    "plt.figure(figsize=(12,8))\n",
    "plt.plot(X)"
   ]
  },
  {
   "cell_type": "markdown",
   "metadata": {},
   "source": [
    "Predict for the known days to see how well the neural network can learn the temperature."
   ]
  },
  {
   "cell_type": "code",
   "execution_count": 72,
   "metadata": {},
   "outputs": [],
   "source": [
    "def evaluate_timeseries(timeseries, window_size, valid_split=0.2, test_split=0.15):\n",
    "    filter_length = 4\n",
    "    nb_filter = 30\n",
    "    timeseries = np.atleast_2d(timeseries)\n",
    "    if timeseries.shape[0] == 1:\n",
    "        timeseries = timeseries.T       \n",
    "    nb_samples, nb_series = timeseries.shape\n",
    "    model = make_1d_convnet(window_size=window_size, filter_length=filter_length, nb_input_series=nb_series, nb_outputs=nb_series, nb_filter=nb_filter)\n",
    "    model.summary()\n",
    "    X, Y = make_timeseries_instances(timeseries, window_size)\n",
    "    \n",
    "    valid_size = int(nb_samples*(1-test_split-valid_split))\n",
    "    test_size = int(nb_samples*(1-test_split))\n",
    "    X_train, Y_train = X[:valid_size], Y[:valid_size]\n",
    "    X_valid, Y_valid = X[valid_size:test_size], Y[valid_size:test_size]\n",
    "    X_test, Y_test   = X[test_size:], Y[test_size:]\n",
    "    \n",
    "    model.fit(X_train, Y_train, epochs=150, batch_size=16, validation_data=(X_valid, Y_valid), verbose=2)\n",
    "    \n",
    "    preds   = model.predict(X_test)\n",
    "\n",
    "    return Y_test, preds"
   ]
  },
  {
   "cell_type": "code",
   "execution_count": 73,
   "metadata": {},
   "outputs": [
    {
     "name": "stdout",
     "output_type": "stream",
     "text": [
      "Model: \"sequential_21\"\n",
      "_________________________________________________________________\n",
      "Layer (type)                 Output Shape              Param #   \n",
      "=================================================================\n",
      "conv1d_36 (Conv1D)           (None, 2, 30)             150       \n",
      "_________________________________________________________________\n",
      "max_pooling1d_33 (MaxPooling (None, 1, 30)             0         \n",
      "_________________________________________________________________\n",
      "flatten_15 (Flatten)         (None, 30)                0         \n",
      "_________________________________________________________________\n",
      "dense_15 (Dense)             (None, 1)                 31        \n",
      "=================================================================\n",
      "Total params: 181\n",
      "Trainable params: 181\n",
      "Non-trainable params: 0\n",
      "_________________________________________________________________\n",
      "Epoch 1/150\n",
      "13/13 - 0s - loss: 191.9592 - mae: 11.8037 - val_loss: 449.5827 - val_mae: 21.0798\n",
      "Epoch 2/150\n",
      "13/13 - 0s - loss: 119.0551 - mae: 9.2546 - val_loss: 267.2232 - val_mae: 16.1947\n",
      "Epoch 3/150\n",
      "13/13 - 0s - loss: 70.5467 - mae: 7.0146 - val_loss: 145.1670 - val_mae: 11.8368\n",
      "Epoch 4/150\n",
      "13/13 - 0s - loss: 38.9109 - mae: 5.1612 - val_loss: 68.9590 - val_mae: 7.9894\n",
      "Epoch 5/150\n",
      "13/13 - 0s - loss: 20.1312 - mae: 3.6739 - val_loss: 25.1570 - val_mae: 4.6267\n",
      "Epoch 6/150\n",
      "13/13 - 0s - loss: 11.0658 - mae: 2.6988 - val_loss: 9.7390 - val_mae: 2.5649\n",
      "Epoch 7/150\n",
      "13/13 - 0s - loss: 8.9166 - mae: 2.3547 - val_loss: 6.8113 - val_mae: 2.0039\n",
      "Epoch 8/150\n",
      "13/13 - 0s - loss: 8.7298 - mae: 2.2995 - val_loss: 6.5861 - val_mae: 1.9602\n",
      "Epoch 9/150\n",
      "13/13 - 0s - loss: 8.7069 - mae: 2.2992 - val_loss: 6.6762 - val_mae: 1.9844\n",
      "Epoch 10/150\n",
      "13/13 - 0s - loss: 8.5968 - mae: 2.2877 - val_loss: 6.7412 - val_mae: 2.0026\n",
      "Epoch 11/150\n",
      "13/13 - 0s - loss: 8.6087 - mae: 2.2947 - val_loss: 7.0296 - val_mae: 2.0548\n",
      "Epoch 12/150\n",
      "13/13 - 0s - loss: 8.5251 - mae: 2.2805 - val_loss: 6.7033 - val_mae: 1.9998\n",
      "Epoch 13/150\n",
      "13/13 - 0s - loss: 8.4621 - mae: 2.2712 - val_loss: 6.7675 - val_mae: 2.0136\n",
      "Epoch 14/150\n",
      "13/13 - 0s - loss: 8.4395 - mae: 2.2777 - val_loss: 7.0527 - val_mae: 2.0692\n",
      "Epoch 15/150\n",
      "13/13 - 0s - loss: 8.3784 - mae: 2.2785 - val_loss: 6.9758 - val_mae: 2.0666\n",
      "Epoch 16/150\n",
      "13/13 - 0s - loss: 8.2445 - mae: 2.2429 - val_loss: 6.2696 - val_mae: 1.9339\n",
      "Epoch 17/150\n",
      "13/13 - 0s - loss: 8.2235 - mae: 2.2424 - val_loss: 6.3606 - val_mae: 1.9564\n",
      "Epoch 18/150\n",
      "13/13 - 0s - loss: 8.1064 - mae: 2.2330 - val_loss: 6.6672 - val_mae: 2.0218\n",
      "Epoch 19/150\n",
      "13/13 - 0s - loss: 8.0769 - mae: 2.2285 - val_loss: 6.2955 - val_mae: 1.9493\n",
      "Epoch 20/150\n",
      "13/13 - 0s - loss: 8.0659 - mae: 2.2314 - val_loss: 6.2258 - val_mae: 1.9389\n",
      "Epoch 21/150\n",
      "13/13 - 0s - loss: 7.9811 - mae: 2.2092 - val_loss: 6.0657 - val_mae: 1.9098\n",
      "Epoch 22/150\n",
      "13/13 - 0s - loss: 7.9032 - mae: 2.2020 - val_loss: 6.1251 - val_mae: 1.9267\n",
      "Epoch 23/150\n",
      "13/13 - 0s - loss: 7.8726 - mae: 2.1807 - val_loss: 5.7068 - val_mae: 1.8476\n",
      "Epoch 24/150\n",
      "13/13 - 0s - loss: 7.8050 - mae: 2.1878 - val_loss: 6.1497 - val_mae: 1.9474\n",
      "Epoch 25/150\n",
      "13/13 - 0s - loss: 7.6576 - mae: 2.1707 - val_loss: 5.9939 - val_mae: 1.9228\n",
      "Epoch 26/150\n",
      "13/13 - 0s - loss: 7.5471 - mae: 2.1563 - val_loss: 5.7586 - val_mae: 1.8707\n",
      "Epoch 27/150\n",
      "13/13 - 0s - loss: 7.4565 - mae: 2.1319 - val_loss: 5.4673 - val_mae: 1.8096\n",
      "Epoch 28/150\n",
      "13/13 - 0s - loss: 7.3765 - mae: 2.1215 - val_loss: 5.5624 - val_mae: 1.8312\n",
      "Epoch 29/150\n",
      "13/13 - 0s - loss: 7.3684 - mae: 2.1156 - val_loss: 5.3048 - val_mae: 1.7830\n",
      "Epoch 30/150\n",
      "13/13 - 0s - loss: 7.3120 - mae: 2.1130 - val_loss: 5.8190 - val_mae: 1.9224\n",
      "Epoch 31/150\n",
      "13/13 - 0s - loss: 7.1783 - mae: 2.0958 - val_loss: 5.2287 - val_mae: 1.7694\n",
      "Epoch 32/150\n",
      "13/13 - 0s - loss: 7.1677 - mae: 2.0814 - val_loss: 5.1933 - val_mae: 1.7615\n",
      "Epoch 33/150\n",
      "13/13 - 0s - loss: 7.0673 - mae: 2.0720 - val_loss: 5.1490 - val_mae: 1.7551\n",
      "Epoch 34/150\n",
      "13/13 - 0s - loss: 6.9725 - mae: 2.0574 - val_loss: 5.1083 - val_mae: 1.7574\n",
      "Epoch 35/150\n",
      "13/13 - 0s - loss: 6.8887 - mae: 2.0522 - val_loss: 5.1384 - val_mae: 1.7809\n",
      "Epoch 36/150\n",
      "13/13 - 0s - loss: 6.8405 - mae: 2.0337 - val_loss: 4.8668 - val_mae: 1.7169\n",
      "Epoch 37/150\n",
      "13/13 - 0s - loss: 6.7857 - mae: 2.0312 - val_loss: 4.9145 - val_mae: 1.7284\n",
      "Epoch 38/150\n",
      "13/13 - 0s - loss: 6.7345 - mae: 2.0182 - val_loss: 4.7894 - val_mae: 1.7079\n",
      "Epoch 39/150\n",
      "13/13 - 0s - loss: 6.7400 - mae: 2.0160 - val_loss: 4.8918 - val_mae: 1.7359\n",
      "Epoch 40/150\n",
      "13/13 - 0s - loss: 6.7310 - mae: 2.0195 - val_loss: 5.2085 - val_mae: 1.8446\n",
      "Epoch 41/150\n",
      "13/13 - 0s - loss: 6.5685 - mae: 2.0056 - val_loss: 4.6870 - val_mae: 1.6967\n",
      "Epoch 42/150\n",
      "13/13 - 0s - loss: 6.7223 - mae: 2.0155 - val_loss: 4.6590 - val_mae: 1.6906\n",
      "Epoch 43/150\n",
      "13/13 - 0s - loss: 6.5783 - mae: 1.9926 - val_loss: 4.8782 - val_mae: 1.7602\n",
      "Epoch 44/150\n",
      "13/13 - 0s - loss: 6.4247 - mae: 1.9741 - val_loss: 4.6095 - val_mae: 1.6858\n",
      "Epoch 45/150\n",
      "13/13 - 0s - loss: 6.4862 - mae: 1.9837 - val_loss: 4.6558 - val_mae: 1.7018\n",
      "Epoch 46/150\n",
      "13/13 - 0s - loss: 6.3980 - mae: 1.9640 - val_loss: 4.8708 - val_mae: 1.7773\n",
      "Epoch 47/150\n",
      "13/13 - 0s - loss: 6.4096 - mae: 1.9643 - val_loss: 4.6360 - val_mae: 1.7055\n",
      "Epoch 48/150\n",
      "13/13 - 0s - loss: 6.3472 - mae: 1.9650 - val_loss: 4.7379 - val_mae: 1.7436\n",
      "Epoch 49/150\n",
      "13/13 - 0s - loss: 6.2972 - mae: 1.9542 - val_loss: 4.5417 - val_mae: 1.6931\n",
      "Epoch 50/150\n",
      "13/13 - 0s - loss: 6.3470 - mae: 1.9548 - val_loss: 4.4816 - val_mae: 1.6810\n",
      "Epoch 51/150\n",
      "13/13 - 0s - loss: 6.7164 - mae: 2.0330 - val_loss: 4.8993 - val_mae: 1.8091\n",
      "Epoch 52/150\n",
      "13/13 - 0s - loss: 6.3256 - mae: 1.9651 - val_loss: 4.4292 - val_mae: 1.6542\n",
      "Epoch 53/150\n",
      "13/13 - 0s - loss: 6.1830 - mae: 1.9264 - val_loss: 5.2040 - val_mae: 1.8847\n",
      "Epoch 54/150\n",
      "13/13 - 0s - loss: 6.4542 - mae: 2.0012 - val_loss: 4.6591 - val_mae: 1.7405\n",
      "Epoch 55/150\n",
      "13/13 - 0s - loss: 6.1830 - mae: 1.9363 - val_loss: 4.4803 - val_mae: 1.6464\n",
      "Epoch 56/150\n",
      "13/13 - 0s - loss: 6.1124 - mae: 1.9237 - val_loss: 4.6268 - val_mae: 1.7372\n",
      "Epoch 57/150\n",
      "13/13 - 0s - loss: 6.1377 - mae: 1.9328 - val_loss: 4.3735 - val_mae: 1.6462\n",
      "Epoch 58/150\n",
      "13/13 - 0s - loss: 6.1161 - mae: 1.9201 - val_loss: 4.3874 - val_mae: 1.6800\n",
      "Epoch 59/150\n",
      "13/13 - 0s - loss: 6.0860 - mae: 1.9232 - val_loss: 4.3527 - val_mae: 1.6732\n",
      "Epoch 60/150\n",
      "13/13 - 0s - loss: 6.0389 - mae: 1.9120 - val_loss: 4.4273 - val_mae: 1.6908\n",
      "Epoch 61/150\n",
      "13/13 - 0s - loss: 6.0493 - mae: 1.9118 - val_loss: 4.4313 - val_mae: 1.6932\n",
      "Epoch 62/150\n",
      "13/13 - 0s - loss: 6.0175 - mae: 1.9074 - val_loss: 4.5519 - val_mae: 1.7343\n",
      "Epoch 63/150\n",
      "13/13 - 0s - loss: 6.1469 - mae: 1.9395 - val_loss: 4.5135 - val_mae: 1.7250\n",
      "Epoch 64/150\n",
      "13/13 - 0s - loss: 6.0034 - mae: 1.9100 - val_loss: 4.2840 - val_mae: 1.6650\n",
      "Epoch 65/150\n",
      "13/13 - 0s - loss: 5.9771 - mae: 1.9013 - val_loss: 4.3703 - val_mae: 1.6875\n",
      "Epoch 66/150\n",
      "13/13 - 0s - loss: 5.9869 - mae: 1.9034 - val_loss: 4.2669 - val_mae: 1.6410\n",
      "Epoch 67/150\n",
      "13/13 - 0s - loss: 6.0816 - mae: 1.9188 - val_loss: 4.2621 - val_mae: 1.6663\n",
      "Epoch 68/150\n",
      "13/13 - 0s - loss: 6.0768 - mae: 1.9122 - val_loss: 4.6055 - val_mae: 1.7631\n",
      "Epoch 69/150\n",
      "13/13 - 0s - loss: 5.9540 - mae: 1.8999 - val_loss: 4.2301 - val_mae: 1.6448\n",
      "Epoch 70/150\n",
      "13/13 - 0s - loss: 5.8961 - mae: 1.8878 - val_loss: 4.3872 - val_mae: 1.7008\n",
      "Epoch 71/150\n",
      "13/13 - 0s - loss: 5.9564 - mae: 1.8991 - val_loss: 4.4174 - val_mae: 1.7117\n",
      "Epoch 72/150\n",
      "13/13 - 0s - loss: 6.0369 - mae: 1.9138 - val_loss: 4.2044 - val_mae: 1.6477\n",
      "Epoch 73/150\n",
      "13/13 - 0s - loss: 5.9252 - mae: 1.8985 - val_loss: 4.1965 - val_mae: 1.6456\n",
      "Epoch 74/150\n",
      "13/13 - 0s - loss: 6.0124 - mae: 1.9148 - val_loss: 4.2793 - val_mae: 1.6782\n",
      "Epoch 75/150\n",
      "13/13 - 0s - loss: 5.9370 - mae: 1.8978 - val_loss: 4.4564 - val_mae: 1.7333\n",
      "Epoch 76/150\n",
      "13/13 - 0s - loss: 5.8958 - mae: 1.8824 - val_loss: 4.2562 - val_mae: 1.6226\n",
      "Epoch 77/150\n",
      "13/13 - 0s - loss: 5.7907 - mae: 1.8740 - val_loss: 4.5609 - val_mae: 1.7628\n",
      "Epoch 78/150\n",
      "13/13 - 0s - loss: 6.0029 - mae: 1.9199 - val_loss: 4.2522 - val_mae: 1.6738\n",
      "Epoch 79/150\n",
      "13/13 - 0s - loss: 5.8852 - mae: 1.8874 - val_loss: 4.2018 - val_mae: 1.6636\n",
      "Epoch 80/150\n",
      "13/13 - 0s - loss: 5.7981 - mae: 1.8751 - val_loss: 4.1707 - val_mae: 1.6554\n",
      "Epoch 81/150\n",
      "13/13 - 0s - loss: 6.0575 - mae: 1.9213 - val_loss: 4.5096 - val_mae: 1.7522\n",
      "Epoch 82/150\n"
     ]
    },
    {
     "name": "stdout",
     "output_type": "stream",
     "text": [
      "13/13 - 0s - loss: 5.7941 - mae: 1.8641 - val_loss: 4.2146 - val_mae: 1.6195\n",
      "Epoch 83/150\n",
      "13/13 - 0s - loss: 5.8403 - mae: 1.8992 - val_loss: 4.2230 - val_mae: 1.6717\n",
      "Epoch 84/150\n",
      "13/13 - 0s - loss: 5.7360 - mae: 1.8637 - val_loss: 4.1345 - val_mae: 1.6340\n",
      "Epoch 85/150\n",
      "13/13 - 0s - loss: 5.9720 - mae: 1.9141 - val_loss: 4.1515 - val_mae: 1.6563\n",
      "Epoch 86/150\n",
      "13/13 - 0s - loss: 5.8890 - mae: 1.8817 - val_loss: 4.1963 - val_mae: 1.6674\n",
      "Epoch 87/150\n",
      "13/13 - 0s - loss: 5.7566 - mae: 1.8772 - val_loss: 4.1500 - val_mae: 1.6570\n",
      "Epoch 88/150\n",
      "13/13 - 0s - loss: 5.7340 - mae: 1.8661 - val_loss: 4.3808 - val_mae: 1.7230\n",
      "Epoch 89/150\n",
      "13/13 - 0s - loss: 5.6947 - mae: 1.8612 - val_loss: 4.0990 - val_mae: 1.6404\n",
      "Epoch 90/150\n",
      "13/13 - 0s - loss: 5.7097 - mae: 1.8694 - val_loss: 4.1398 - val_mae: 1.6553\n",
      "Epoch 91/150\n",
      "13/13 - 0s - loss: 5.7660 - mae: 1.8734 - val_loss: 4.4347 - val_mae: 1.7402\n",
      "Epoch 92/150\n",
      "13/13 - 0s - loss: 5.6968 - mae: 1.8727 - val_loss: 4.1665 - val_mae: 1.6104\n",
      "Epoch 93/150\n",
      "13/13 - 0s - loss: 5.8313 - mae: 1.8866 - val_loss: 4.2107 - val_mae: 1.6744\n",
      "Epoch 94/150\n",
      "13/13 - 0s - loss: 5.6465 - mae: 1.8575 - val_loss: 4.0609 - val_mae: 1.6182\n",
      "Epoch 95/150\n",
      "13/13 - 0s - loss: 5.6987 - mae: 1.8622 - val_loss: 4.0726 - val_mae: 1.6366\n",
      "Epoch 96/150\n",
      "13/13 - 0s - loss: 5.7250 - mae: 1.8653 - val_loss: 4.1495 - val_mae: 1.6568\n",
      "Epoch 97/150\n",
      "13/13 - 0s - loss: 5.9413 - mae: 1.9041 - val_loss: 4.6418 - val_mae: 1.7889\n",
      "Epoch 98/150\n",
      "13/13 - 0s - loss: 5.8245 - mae: 1.8902 - val_loss: 4.0461 - val_mae: 1.6145\n",
      "Epoch 99/150\n",
      "13/13 - 0s - loss: 5.6002 - mae: 1.8494 - val_loss: 4.5500 - val_mae: 1.7698\n",
      "Epoch 100/150\n",
      "13/13 - 0s - loss: 5.6392 - mae: 1.8477 - val_loss: 4.0323 - val_mae: 1.6221\n",
      "Epoch 101/150\n",
      "13/13 - 0s - loss: 5.6782 - mae: 1.8606 - val_loss: 4.2229 - val_mae: 1.6830\n",
      "Epoch 102/150\n",
      "13/13 - 0s - loss: 5.6160 - mae: 1.8384 - val_loss: 4.3694 - val_mae: 1.7254\n",
      "Epoch 103/150\n",
      "13/13 - 0s - loss: 5.7779 - mae: 1.8899 - val_loss: 4.0906 - val_mae: 1.6448\n",
      "Epoch 104/150\n",
      "13/13 - 0s - loss: 5.6890 - mae: 1.8529 - val_loss: 4.1192 - val_mae: 1.6532\n",
      "Epoch 105/150\n",
      "13/13 - 0s - loss: 5.7404 - mae: 1.8701 - val_loss: 4.0166 - val_mae: 1.6209\n",
      "Epoch 106/150\n",
      "13/13 - 0s - loss: 5.7013 - mae: 1.8621 - val_loss: 4.1162 - val_mae: 1.6550\n",
      "Epoch 107/150\n",
      "13/13 - 0s - loss: 5.7724 - mae: 1.8699 - val_loss: 4.0068 - val_mae: 1.6132\n",
      "Epoch 108/150\n",
      "13/13 - 0s - loss: 5.7097 - mae: 1.8606 - val_loss: 4.0284 - val_mae: 1.6297\n",
      "Epoch 109/150\n",
      "13/13 - 0s - loss: 5.5554 - mae: 1.8406 - val_loss: 4.0626 - val_mae: 1.5993\n",
      "Epoch 110/150\n",
      "13/13 - 0s - loss: 5.5679 - mae: 1.8390 - val_loss: 4.2782 - val_mae: 1.7024\n",
      "Epoch 111/150\n",
      "13/13 - 0s - loss: 5.6449 - mae: 1.8440 - val_loss: 4.0128 - val_mae: 1.6256\n",
      "Epoch 112/150\n",
      "13/13 - 0s - loss: 5.5425 - mae: 1.8335 - val_loss: 3.9872 - val_mae: 1.6040\n",
      "Epoch 113/150\n",
      "13/13 - 0s - loss: 5.5205 - mae: 1.8277 - val_loss: 4.3909 - val_mae: 1.7347\n",
      "Epoch 114/150\n",
      "13/13 - 0s - loss: 5.5600 - mae: 1.8294 - val_loss: 4.1045 - val_mae: 1.6559\n",
      "Epoch 115/150\n",
      "13/13 - 0s - loss: 5.4818 - mae: 1.8256 - val_loss: 3.9768 - val_mae: 1.6152\n",
      "Epoch 116/150\n",
      "13/13 - 0s - loss: 5.5742 - mae: 1.8373 - val_loss: 3.9724 - val_mae: 1.6084\n",
      "Epoch 117/150\n",
      "13/13 - 0s - loss: 5.5830 - mae: 1.8504 - val_loss: 3.9941 - val_mae: 1.6262\n",
      "Epoch 118/150\n",
      "13/13 - 0s - loss: 5.5156 - mae: 1.8315 - val_loss: 4.1182 - val_mae: 1.6640\n",
      "Epoch 119/150\n",
      "13/13 - 0s - loss: 5.6188 - mae: 1.8406 - val_loss: 4.4013 - val_mae: 1.7431\n",
      "Epoch 120/150\n",
      "13/13 - 0s - loss: 5.5614 - mae: 1.8372 - val_loss: 3.9720 - val_mae: 1.5997\n",
      "Epoch 121/150\n",
      "13/13 - 0s - loss: 5.6163 - mae: 1.8434 - val_loss: 4.3848 - val_mae: 1.7395\n",
      "Epoch 122/150\n",
      "13/13 - 0s - loss: 5.6094 - mae: 1.8497 - val_loss: 3.9432 - val_mae: 1.6086\n",
      "Epoch 123/150\n",
      "13/13 - 0s - loss: 5.5166 - mae: 1.8348 - val_loss: 4.1245 - val_mae: 1.6691\n",
      "Epoch 124/150\n",
      "13/13 - 0s - loss: 5.4976 - mae: 1.8212 - val_loss: 3.9344 - val_mae: 1.6069\n",
      "Epoch 125/150\n",
      "13/13 - 0s - loss: 5.4611 - mae: 1.8257 - val_loss: 3.9740 - val_mae: 1.6249\n",
      "Epoch 126/150\n",
      "13/13 - 0s - loss: 5.5140 - mae: 1.8175 - val_loss: 4.2534 - val_mae: 1.7091\n",
      "Epoch 127/150\n",
      "13/13 - 0s - loss: 5.5090 - mae: 1.8337 - val_loss: 4.0782 - val_mae: 1.6601\n",
      "Epoch 128/150\n",
      "13/13 - 0s - loss: 5.5601 - mae: 1.8303 - val_loss: 3.9296 - val_mae: 1.6140\n",
      "Epoch 129/150\n",
      "13/13 - 0s - loss: 5.4324 - mae: 1.8192 - val_loss: 3.9440 - val_mae: 1.6206\n",
      "Epoch 130/150\n",
      "13/13 - 0s - loss: 5.4292 - mae: 1.8231 - val_loss: 3.9129 - val_mae: 1.6015\n",
      "Epoch 131/150\n",
      "13/13 - 0s - loss: 5.4636 - mae: 1.8231 - val_loss: 3.9124 - val_mae: 1.5974\n",
      "Epoch 132/150\n",
      "13/13 - 0s - loss: 5.5611 - mae: 1.8393 - val_loss: 3.9091 - val_mae: 1.6045\n",
      "Epoch 133/150\n",
      "13/13 - 0s - loss: 5.4411 - mae: 1.8197 - val_loss: 4.0749 - val_mae: 1.6631\n",
      "Epoch 134/150\n",
      "13/13 - 0s - loss: 5.5283 - mae: 1.8257 - val_loss: 3.9866 - val_mae: 1.6363\n",
      "Epoch 135/150\n",
      "13/13 - 0s - loss: 5.4530 - mae: 1.8294 - val_loss: 3.9140 - val_mae: 1.6140\n",
      "Epoch 136/150\n",
      "13/13 - 0s - loss: 5.3930 - mae: 1.8118 - val_loss: 4.2297 - val_mae: 1.7069\n",
      "Epoch 137/150\n",
      "13/13 - 0s - loss: 5.5308 - mae: 1.8330 - val_loss: 3.9670 - val_mae: 1.6305\n",
      "Epoch 138/150\n",
      "13/13 - 0s - loss: 5.3935 - mae: 1.8124 - val_loss: 3.9603 - val_mae: 1.6282\n",
      "Epoch 139/150\n",
      "13/13 - 0s - loss: 5.4736 - mae: 1.8208 - val_loss: 3.8941 - val_mae: 1.6069\n",
      "Epoch 140/150\n",
      "13/13 - 0s - loss: 5.3610 - mae: 1.8118 - val_loss: 3.8865 - val_mae: 1.6011\n",
      "Epoch 141/150\n",
      "13/13 - 0s - loss: 5.4647 - mae: 1.8240 - val_loss: 3.8849 - val_mae: 1.6019\n",
      "Epoch 142/150\n",
      "13/13 - 0s - loss: 5.3751 - mae: 1.8072 - val_loss: 3.9453 - val_mae: 1.6210\n",
      "Epoch 143/150\n",
      "13/13 - 0s - loss: 5.4477 - mae: 1.8349 - val_loss: 3.9059 - val_mae: 1.6078\n",
      "Epoch 144/150\n",
      "13/13 - 0s - loss: 5.3955 - mae: 1.8199 - val_loss: 4.6065 - val_mae: 1.7888\n",
      "Epoch 145/150\n",
      "13/13 - 0s - loss: 5.5405 - mae: 1.8365 - val_loss: 3.9189 - val_mae: 1.6117\n",
      "Epoch 146/150\n",
      "13/13 - 0s - loss: 5.4561 - mae: 1.8259 - val_loss: 3.9818 - val_mae: 1.6362\n",
      "Epoch 147/150\n",
      "13/13 - 0s - loss: 5.3282 - mae: 1.8021 - val_loss: 3.9168 - val_mae: 1.6150\n",
      "Epoch 148/150\n",
      "13/13 - 0s - loss: 5.5488 - mae: 1.8466 - val_loss: 3.8882 - val_mae: 1.6062\n",
      "Epoch 149/150\n",
      "13/13 - 0s - loss: 5.2970 - mae: 1.7950 - val_loss: 4.6937 - val_mae: 1.8092\n",
      "Epoch 150/150\n",
      "13/13 - 0s - loss: 5.5226 - mae: 1.8245 - val_loss: 3.8810 - val_mae: 1.5830\n",
      "WARNING:tensorflow:6 out of the last 11 calls to <function Model.make_predict_function.<locals>.predict_function at 0x000002E52D6AD700> triggered tf.function retracing. Tracing is expensive and the excessive number of tracings could be due to (1) creating @tf.function repeatedly in a loop, (2) passing tensors with different shapes, (3) passing Python objects instead of tensors. For (1), please define your @tf.function outside of the loop. For (2), @tf.function has experimental_relax_shapes=True option that relaxes argument shapes that can avoid unnecessary retracing. For (3), please refer to https://www.tensorflow.org/tutorials/customization/performance#python_or_tensor_args and https://www.tensorflow.org/api_docs/python/tf/function for  more details.\n"
     ]
    }
   ],
   "source": [
    "window_size = 5\n",
    "targets, preds = evaluate_timeseries(X, window_size)"
   ]
  },
  {
   "cell_type": "markdown",
   "metadata": {},
   "source": [
    "Plot the predictions and targets, as we can see it is good."
   ]
  },
  {
   "cell_type": "code",
   "execution_count": 74,
   "metadata": {},
   "outputs": [
    {
     "data": {
      "text/plain": [
       "<matplotlib.legend.Legend at 0x2e52b782790>"
      ]
     },
     "execution_count": 74,
     "metadata": {},
     "output_type": "execute_result"
    },
    {
     "data": {
      "image/png": "[encoded data removed]",
      "text/plain": [
       "<Figure size 864x576 with 1 Axes>"
      ]
     },
     "metadata": {
      "needs_background": "light"
     },
     "output_type": "display_data"
    }
   ],
   "source": [
    "plt.figure(figsize=(12,8))\n",
    "plt.plot(preds, color='r', label=\"Predictions\")\n",
    "plt.plot(targets, color='g', label=\"Targets\")\n",
    "plt.legend()"
   ]
  },
  {
   "cell_type": "markdown",
   "metadata": {},
   "source": [
    "## Predictions"
   ]
  },
  {
   "cell_type": "code",
   "execution_count": 204,
   "metadata": {},
   "outputs": [],
   "source": [
    "import os\n",
    "os.environ['TF_CPP_MIN_LOG_LEVEL'] = '3' \n",
    "import tensorflow as tf\n",
    "tf.get_logger().setLevel('ERROR') #it writes always warning, that I don't want to see"
   ]
  },
  {
   "cell_type": "markdown",
   "metadata": {},
   "source": [
    "Create date list for nice output."
   ]
  },
  {
   "cell_type": "code",
   "execution_count": 215,
   "metadata": {},
   "outputs": [
    {
     "name": "stdout",
     "output_type": "stream",
     "text": [
      "36\n"
     ]
    }
   ],
   "source": [
    "date = ['10.26','10.27','10.28','10.29', '10.30', '10.31']\n",
    "for i in range(1,31):\n",
    "    date.append('11.'+str(i))\n",
    "print(len(date))"
   ]
  },
  {
   "cell_type": "markdown",
   "metadata": {},
   "source": [
    "In every step the neural network give prediction for the next day, we put this prediction into the data, and do it over and over again for every day."
   ]
  },
  {
   "cell_type": "code",
   "execution_count": 262,
   "metadata": {},
   "outputs": [
    {
     "name": "stdout",
     "output_type": "stream",
     "text": [
      "10.26 :  13.84481611251831\n",
      "10.27 :  13.612336492538452\n",
      "10.28 :  15.260466170310973\n",
      "10.29 :  14.197078239917754\n",
      "10.30 :  14.210457122325897\n",
      "10.31 :  14.594721007347106\n",
      "11.1 :  15.545982694625854\n",
      "11.2 :  15.836231517791747\n",
      "11.3 :  16.093909454345702\n",
      "11.4 :  15.658028006553648\n",
      "11.5 :  15.513112449645995\n",
      "11.6 :  15.192537927627562\n",
      "11.7 :  16.645928025245667\n",
      "11.8 :  16.284381437301633\n",
      "11.9 :  16.812813353538512\n",
      "11.10 :  17.12536959648132\n",
      "11.11 :  17.67905030250549\n",
      "11.12 :  17.52144682407379\n",
      "11.13 :  18.04060559272766\n",
      "11.14 :  18.232755374908447\n",
      "11.15 :  18.444337344169615\n"
     ]
    },
    {
     "ename": "KeyboardInterrupt",
     "evalue": "",
     "output_type": "error",
     "traceback": [
      "\u001b[1;31m---------------------------------------------------------------------------\u001b[0m",
      "\u001b[1;31mKeyboardInterrupt\u001b[0m                         Traceback (most recent call last)",
      "\u001b[1;32m<ipython-input-262-bf03f7a26a64>\u001b[0m in \u001b[0;36m<module>\u001b[1;34m\u001b[0m\n\u001b[0;32m     34\u001b[0m         \u001b[1;32mreturn\u001b[0m \u001b[0mY_test\u001b[0m\u001b[1;33m,\u001b[0m \u001b[0mpreds\u001b[0m\u001b[1;33m\u001b[0m\u001b[1;33m\u001b[0m\u001b[0m\n\u001b[0;32m     35\u001b[0m \u001b[1;33m\u001b[0m\u001b[0m\n\u001b[1;32m---> 36\u001b[1;33m     \u001b[0mtargets\u001b[0m\u001b[1;33m,\u001b[0m \u001b[0mpreds\u001b[0m \u001b[1;33m=\u001b[0m \u001b[0mevaluate_timeseries\u001b[0m\u001b[1;33m(\u001b[0m\u001b[0mX_predict\u001b[0m\u001b[1;33m,\u001b[0m \u001b[0mwindow_size\u001b[0m\u001b[1;33m)\u001b[0m \u001b[1;31m#create prediction\u001b[0m\u001b[1;33m\u001b[0m\u001b[1;33m\u001b[0m\u001b[0m\n\u001b[0m\u001b[0;32m     37\u001b[0m     \u001b[0mdata_prediction\u001b[0m \u001b[1;33m=\u001b[0m \u001b[0mdata\u001b[0m\u001b[1;33m\u001b[0m\u001b[1;33m\u001b[0m\u001b[0m\n\u001b[0;32m     38\u001b[0m     \u001b[0mprint\u001b[0m\u001b[1;33m(\u001b[0m\u001b[0mdate\u001b[0m\u001b[1;33m[\u001b[0m\u001b[0mi\u001b[0m\u001b[1;33m]\u001b[0m\u001b[1;33m,\u001b[0m \u001b[1;34m': '\u001b[0m\u001b[1;33m,\u001b[0m \u001b[1;33m(\u001b[0m\u001b[0mpreds\u001b[0m\u001b[1;33m[\u001b[0m\u001b[1;33m-\u001b[0m\u001b[1;36m1\u001b[0m\u001b[1;33m]\u001b[0m\u001b[1;33m[\u001b[0m\u001b[1;36m0\u001b[0m\u001b[1;33m]\u001b[0m\u001b[1;33m)\u001b[0m\u001b[1;33m*\u001b[0m\u001b[1;33m(\u001b[0m\u001b[0mX_pred_max\u001b[0m\u001b[1;33m-\u001b[0m\u001b[0mX_pred_min\u001b[0m\u001b[1;33m)\u001b[0m\u001b[1;33m+\u001b[0m\u001b[0mX_pred_min\u001b[0m\u001b[1;33m)\u001b[0m \u001b[1;31m#print out the prediction\u001b[0m\u001b[1;33m\u001b[0m\u001b[1;33m\u001b[0m\u001b[0m\n",
      "\u001b[1;32m<ipython-input-262-bf03f7a26a64>\u001b[0m in \u001b[0;36mevaluate_timeseries\u001b[1;34m(timeseries, window_size, valid_split, test_split)\u001b[0m\n\u001b[0;32m     29\u001b[0m         \u001b[0mX_test\u001b[0m\u001b[1;33m,\u001b[0m \u001b[0mY_test\u001b[0m   \u001b[1;33m=\u001b[0m \u001b[0mX\u001b[0m\u001b[1;33m[\u001b[0m\u001b[1;36m280\u001b[0m\u001b[1;33m+\u001b[0m\u001b[0mi\u001b[0m\u001b[1;33m:\u001b[0m\u001b[1;33m]\u001b[0m\u001b[1;33m,\u001b[0m \u001b[0mY\u001b[0m\u001b[1;33m[\u001b[0m\u001b[1;36m280\u001b[0m\u001b[1;33m+\u001b[0m\u001b[0mi\u001b[0m\u001b[1;33m:\u001b[0m\u001b[1;33m]\u001b[0m\u001b[1;33m\u001b[0m\u001b[1;33m\u001b[0m\u001b[0m\n\u001b[0;32m     30\u001b[0m \u001b[1;33m\u001b[0m\u001b[0m\n\u001b[1;32m---> 31\u001b[1;33m         \u001b[0mmodel\u001b[0m\u001b[1;33m.\u001b[0m\u001b[0mfit\u001b[0m\u001b[1;33m(\u001b[0m\u001b[0mX_train\u001b[0m\u001b[1;33m,\u001b[0m \u001b[0mY_train\u001b[0m\u001b[1;33m,\u001b[0m \u001b[0mepochs\u001b[0m\u001b[1;33m=\u001b[0m\u001b[1;36m200\u001b[0m\u001b[1;33m,\u001b[0m \u001b[0mbatch_size\u001b[0m\u001b[1;33m=\u001b[0m\u001b[1;36m16\u001b[0m\u001b[1;33m,\u001b[0m \u001b[0mverbose\u001b[0m\u001b[1;33m=\u001b[0m\u001b[1;36m0\u001b[0m\u001b[1;33m)\u001b[0m\u001b[1;33m\u001b[0m\u001b[1;33m\u001b[0m\u001b[0m\n\u001b[0m\u001b[0;32m     32\u001b[0m \u001b[1;33m\u001b[0m\u001b[0m\n\u001b[0;32m     33\u001b[0m         \u001b[0mpreds\u001b[0m   \u001b[1;33m=\u001b[0m \u001b[0mmodel\u001b[0m\u001b[1;33m.\u001b[0m\u001b[0mpredict\u001b[0m\u001b[1;33m(\u001b[0m\u001b[0mX_test\u001b[0m\u001b[1;33m)\u001b[0m\u001b[1;33m\u001b[0m\u001b[1;33m\u001b[0m\u001b[0m\n",
      "\u001b[1;32mC:\\anaconda3\\lib\\site-packages\\tensorflow\\python\\keras\\engine\\training.py\u001b[0m in \u001b[0;36m_method_wrapper\u001b[1;34m(self, *args, **kwargs)\u001b[0m\n\u001b[0;32m    106\u001b[0m   \u001b[1;32mdef\u001b[0m \u001b[0m_method_wrapper\u001b[0m\u001b[1;33m(\u001b[0m\u001b[0mself\u001b[0m\u001b[1;33m,\u001b[0m \u001b[1;33m*\u001b[0m\u001b[0margs\u001b[0m\u001b[1;33m,\u001b[0m \u001b[1;33m**\u001b[0m\u001b[0mkwargs\u001b[0m\u001b[1;33m)\u001b[0m\u001b[1;33m:\u001b[0m\u001b[1;33m\u001b[0m\u001b[1;33m\u001b[0m\u001b[0m\n\u001b[0;32m    107\u001b[0m     \u001b[1;32mif\u001b[0m \u001b[1;32mnot\u001b[0m \u001b[0mself\u001b[0m\u001b[1;33m.\u001b[0m\u001b[0m_in_multi_worker_mode\u001b[0m\u001b[1;33m(\u001b[0m\u001b[1;33m)\u001b[0m\u001b[1;33m:\u001b[0m  \u001b[1;31m# pylint: disable=protected-access\u001b[0m\u001b[1;33m\u001b[0m\u001b[1;33m\u001b[0m\u001b[0m\n\u001b[1;32m--> 108\u001b[1;33m       \u001b[1;32mreturn\u001b[0m \u001b[0mmethod\u001b[0m\u001b[1;33m(\u001b[0m\u001b[0mself\u001b[0m\u001b[1;33m,\u001b[0m \u001b[1;33m*\u001b[0m\u001b[0margs\u001b[0m\u001b[1;33m,\u001b[0m \u001b[1;33m**\u001b[0m\u001b[0mkwargs\u001b[0m\u001b[1;33m)\u001b[0m\u001b[1;33m\u001b[0m\u001b[1;33m\u001b[0m\u001b[0m\n\u001b[0m\u001b[0;32m    109\u001b[0m \u001b[1;33m\u001b[0m\u001b[0m\n\u001b[0;32m    110\u001b[0m     \u001b[1;31m# Running inside `run_distribute_coordinator` already.\u001b[0m\u001b[1;33m\u001b[0m\u001b[1;33m\u001b[0m\u001b[1;33m\u001b[0m\u001b[0m\n",
      "\u001b[1;32mC:\\anaconda3\\lib\\site-packages\\tensorflow\\python\\keras\\engine\\training.py\u001b[0m in \u001b[0;36mfit\u001b[1;34m(self, x, y, batch_size, epochs, verbose, callbacks, validation_split, validation_data, shuffle, class_weight, sample_weight, initial_epoch, steps_per_epoch, validation_steps, validation_batch_size, validation_freq, max_queue_size, workers, use_multiprocessing)\u001b[0m\n\u001b[0;32m   1096\u001b[0m                 batch_size=batch_size):\n\u001b[0;32m   1097\u001b[0m               \u001b[0mcallbacks\u001b[0m\u001b[1;33m.\u001b[0m\u001b[0mon_train_batch_begin\u001b[0m\u001b[1;33m(\u001b[0m\u001b[0mstep\u001b[0m\u001b[1;33m)\u001b[0m\u001b[1;33m\u001b[0m\u001b[1;33m\u001b[0m\u001b[0m\n\u001b[1;32m-> 1098\u001b[1;33m               \u001b[0mtmp_logs\u001b[0m \u001b[1;33m=\u001b[0m \u001b[0mtrain_function\u001b[0m\u001b[1;33m(\u001b[0m\u001b[0miterator\u001b[0m\u001b[1;33m)\u001b[0m\u001b[1;33m\u001b[0m\u001b[1;33m\u001b[0m\u001b[0m\n\u001b[0m\u001b[0;32m   1099\u001b[0m               \u001b[1;32mif\u001b[0m \u001b[0mdata_handler\u001b[0m\u001b[1;33m.\u001b[0m\u001b[0mshould_sync\u001b[0m\u001b[1;33m:\u001b[0m\u001b[1;33m\u001b[0m\u001b[1;33m\u001b[0m\u001b[0m\n\u001b[0;32m   1100\u001b[0m                 \u001b[0mcontext\u001b[0m\u001b[1;33m.\u001b[0m\u001b[0masync_wait\u001b[0m\u001b[1;33m(\u001b[0m\u001b[1;33m)\u001b[0m\u001b[1;33m\u001b[0m\u001b[1;33m\u001b[0m\u001b[0m\n",
      "\u001b[1;32mC:\\anaconda3\\lib\\site-packages\\tensorflow\\python\\eager\\def_function.py\u001b[0m in \u001b[0;36m__call__\u001b[1;34m(self, *args, **kwds)\u001b[0m\n\u001b[0;32m    778\u001b[0m       \u001b[1;32melse\u001b[0m\u001b[1;33m:\u001b[0m\u001b[1;33m\u001b[0m\u001b[1;33m\u001b[0m\u001b[0m\n\u001b[0;32m    779\u001b[0m         \u001b[0mcompiler\u001b[0m \u001b[1;33m=\u001b[0m \u001b[1;34m\"nonXla\"\u001b[0m\u001b[1;33m\u001b[0m\u001b[1;33m\u001b[0m\u001b[0m\n\u001b[1;32m--> 780\u001b[1;33m         \u001b[0mresult\u001b[0m \u001b[1;33m=\u001b[0m \u001b[0mself\u001b[0m\u001b[1;33m.\u001b[0m\u001b[0m_call\u001b[0m\u001b[1;33m(\u001b[0m\u001b[1;33m*\u001b[0m\u001b[0margs\u001b[0m\u001b[1;33m,\u001b[0m \u001b[1;33m**\u001b[0m\u001b[0mkwds\u001b[0m\u001b[1;33m)\u001b[0m\u001b[1;33m\u001b[0m\u001b[1;33m\u001b[0m\u001b[0m\n\u001b[0m\u001b[0;32m    781\u001b[0m \u001b[1;33m\u001b[0m\u001b[0m\n\u001b[0;32m    782\u001b[0m       \u001b[0mnew_tracing_count\u001b[0m \u001b[1;33m=\u001b[0m \u001b[0mself\u001b[0m\u001b[1;33m.\u001b[0m\u001b[0m_get_tracing_count\u001b[0m\u001b[1;33m(\u001b[0m\u001b[1;33m)\u001b[0m\u001b[1;33m\u001b[0m\u001b[1;33m\u001b[0m\u001b[0m\n",
      "\u001b[1;32mC:\\anaconda3\\lib\\site-packages\\tensorflow\\python\\eager\\def_function.py\u001b[0m in \u001b[0;36m_call\u001b[1;34m(self, *args, **kwds)\u001b[0m\n\u001b[0;32m    805\u001b[0m       \u001b[1;31m# In this case we have created variables on the first call, so we run the\u001b[0m\u001b[1;33m\u001b[0m\u001b[1;33m\u001b[0m\u001b[1;33m\u001b[0m\u001b[0m\n\u001b[0;32m    806\u001b[0m       \u001b[1;31m# defunned version which is guaranteed to never create variables.\u001b[0m\u001b[1;33m\u001b[0m\u001b[1;33m\u001b[0m\u001b[1;33m\u001b[0m\u001b[0m\n\u001b[1;32m--> 807\u001b[1;33m       \u001b[1;32mreturn\u001b[0m \u001b[0mself\u001b[0m\u001b[1;33m.\u001b[0m\u001b[0m_stateless_fn\u001b[0m\u001b[1;33m(\u001b[0m\u001b[1;33m*\u001b[0m\u001b[0margs\u001b[0m\u001b[1;33m,\u001b[0m \u001b[1;33m**\u001b[0m\u001b[0mkwds\u001b[0m\u001b[1;33m)\u001b[0m  \u001b[1;31m# pylint: disable=not-callable\u001b[0m\u001b[1;33m\u001b[0m\u001b[1;33m\u001b[0m\u001b[0m\n\u001b[0m\u001b[0;32m    808\u001b[0m     \u001b[1;32melif\u001b[0m \u001b[0mself\u001b[0m\u001b[1;33m.\u001b[0m\u001b[0m_stateful_fn\u001b[0m \u001b[1;32mis\u001b[0m \u001b[1;32mnot\u001b[0m \u001b[1;32mNone\u001b[0m\u001b[1;33m:\u001b[0m\u001b[1;33m\u001b[0m\u001b[1;33m\u001b[0m\u001b[0m\n\u001b[0;32m    809\u001b[0m       \u001b[1;31m# Release the lock early so that multiple threads can perform the call\u001b[0m\u001b[1;33m\u001b[0m\u001b[1;33m\u001b[0m\u001b[1;33m\u001b[0m\u001b[0m\n",
      "\u001b[1;32mC:\\anaconda3\\lib\\site-packages\\tensorflow\\python\\eager\\function.py\u001b[0m in \u001b[0;36m__call__\u001b[1;34m(self, *args, **kwargs)\u001b[0m\n\u001b[0;32m   2827\u001b[0m     \u001b[1;32mwith\u001b[0m \u001b[0mself\u001b[0m\u001b[1;33m.\u001b[0m\u001b[0m_lock\u001b[0m\u001b[1;33m:\u001b[0m\u001b[1;33m\u001b[0m\u001b[1;33m\u001b[0m\u001b[0m\n\u001b[0;32m   2828\u001b[0m       \u001b[0mgraph_function\u001b[0m\u001b[1;33m,\u001b[0m \u001b[0margs\u001b[0m\u001b[1;33m,\u001b[0m \u001b[0mkwargs\u001b[0m \u001b[1;33m=\u001b[0m \u001b[0mself\u001b[0m\u001b[1;33m.\u001b[0m\u001b[0m_maybe_define_function\u001b[0m\u001b[1;33m(\u001b[0m\u001b[0margs\u001b[0m\u001b[1;33m,\u001b[0m \u001b[0mkwargs\u001b[0m\u001b[1;33m)\u001b[0m\u001b[1;33m\u001b[0m\u001b[1;33m\u001b[0m\u001b[0m\n\u001b[1;32m-> 2829\u001b[1;33m     \u001b[1;32mreturn\u001b[0m \u001b[0mgraph_function\u001b[0m\u001b[1;33m.\u001b[0m\u001b[0m_filtered_call\u001b[0m\u001b[1;33m(\u001b[0m\u001b[0margs\u001b[0m\u001b[1;33m,\u001b[0m \u001b[0mkwargs\u001b[0m\u001b[1;33m)\u001b[0m  \u001b[1;31m# pylint: disable=protected-access\u001b[0m\u001b[1;33m\u001b[0m\u001b[1;33m\u001b[0m\u001b[0m\n\u001b[0m\u001b[0;32m   2830\u001b[0m \u001b[1;33m\u001b[0m\u001b[0m\n\u001b[0;32m   2831\u001b[0m   \u001b[1;33m@\u001b[0m\u001b[0mproperty\u001b[0m\u001b[1;33m\u001b[0m\u001b[1;33m\u001b[0m\u001b[0m\n",
      "\u001b[1;32mC:\\anaconda3\\lib\\site-packages\\tensorflow\\python\\eager\\function.py\u001b[0m in \u001b[0;36m_filtered_call\u001b[1;34m(self, args, kwargs, cancellation_manager)\u001b[0m\n\u001b[0;32m   1841\u001b[0m       \u001b[0;31m`\u001b[0m\u001b[0margs\u001b[0m\u001b[0;31m`\u001b[0m \u001b[1;32mand\u001b[0m\u001b[0;31m \u001b[0m\u001b[0;31m`\u001b[0m\u001b[0mkwargs\u001b[0m\u001b[0;31m`\u001b[0m\u001b[1;33m.\u001b[0m\u001b[1;33m\u001b[0m\u001b[1;33m\u001b[0m\u001b[0m\n\u001b[0;32m   1842\u001b[0m     \"\"\"\n\u001b[1;32m-> 1843\u001b[1;33m     return self._call_flat(\n\u001b[0m\u001b[0;32m   1844\u001b[0m         [t for t in nest.flatten((args, kwargs), expand_composites=True)\n\u001b[0;32m   1845\u001b[0m          if isinstance(t, (ops.Tensor,\n",
      "\u001b[1;32mC:\\anaconda3\\lib\\site-packages\\tensorflow\\python\\eager\\function.py\u001b[0m in \u001b[0;36m_call_flat\u001b[1;34m(self, args, captured_inputs, cancellation_manager)\u001b[0m\n\u001b[0;32m   1921\u001b[0m         and executing_eagerly):\n\u001b[0;32m   1922\u001b[0m       \u001b[1;31m# No tape is watching; skip to running the function.\u001b[0m\u001b[1;33m\u001b[0m\u001b[1;33m\u001b[0m\u001b[1;33m\u001b[0m\u001b[0m\n\u001b[1;32m-> 1923\u001b[1;33m       return self._build_call_outputs(self._inference_function.call(\n\u001b[0m\u001b[0;32m   1924\u001b[0m           ctx, args, cancellation_manager=cancellation_manager))\n\u001b[0;32m   1925\u001b[0m     forward_backward = self._select_forward_and_backward_functions(\n",
      "\u001b[1;32mC:\\anaconda3\\lib\\site-packages\\tensorflow\\python\\eager\\function.py\u001b[0m in \u001b[0;36mcall\u001b[1;34m(self, ctx, args, cancellation_manager)\u001b[0m\n\u001b[0;32m    543\u001b[0m       \u001b[1;32mwith\u001b[0m \u001b[0m_InterpolateFunctionError\u001b[0m\u001b[1;33m(\u001b[0m\u001b[0mself\u001b[0m\u001b[1;33m)\u001b[0m\u001b[1;33m:\u001b[0m\u001b[1;33m\u001b[0m\u001b[1;33m\u001b[0m\u001b[0m\n\u001b[0;32m    544\u001b[0m         \u001b[1;32mif\u001b[0m \u001b[0mcancellation_manager\u001b[0m \u001b[1;32mis\u001b[0m \u001b[1;32mNone\u001b[0m\u001b[1;33m:\u001b[0m\u001b[1;33m\u001b[0m\u001b[1;33m\u001b[0m\u001b[0m\n\u001b[1;32m--> 545\u001b[1;33m           outputs = execute.execute(\n\u001b[0m\u001b[0;32m    546\u001b[0m               \u001b[0mstr\u001b[0m\u001b[1;33m(\u001b[0m\u001b[0mself\u001b[0m\u001b[1;33m.\u001b[0m\u001b[0msignature\u001b[0m\u001b[1;33m.\u001b[0m\u001b[0mname\u001b[0m\u001b[1;33m)\u001b[0m\u001b[1;33m,\u001b[0m\u001b[1;33m\u001b[0m\u001b[1;33m\u001b[0m\u001b[0m\n\u001b[0;32m    547\u001b[0m               \u001b[0mnum_outputs\u001b[0m\u001b[1;33m=\u001b[0m\u001b[0mself\u001b[0m\u001b[1;33m.\u001b[0m\u001b[0m_num_outputs\u001b[0m\u001b[1;33m,\u001b[0m\u001b[1;33m\u001b[0m\u001b[1;33m\u001b[0m\u001b[0m\n",
      "\u001b[1;32mC:\\anaconda3\\lib\\site-packages\\tensorflow\\python\\eager\\execute.py\u001b[0m in \u001b[0;36mquick_execute\u001b[1;34m(op_name, num_outputs, inputs, attrs, ctx, name)\u001b[0m\n\u001b[0;32m     57\u001b[0m   \u001b[1;32mtry\u001b[0m\u001b[1;33m:\u001b[0m\u001b[1;33m\u001b[0m\u001b[1;33m\u001b[0m\u001b[0m\n\u001b[0;32m     58\u001b[0m     \u001b[0mctx\u001b[0m\u001b[1;33m.\u001b[0m\u001b[0mensure_initialized\u001b[0m\u001b[1;33m(\u001b[0m\u001b[1;33m)\u001b[0m\u001b[1;33m\u001b[0m\u001b[1;33m\u001b[0m\u001b[0m\n\u001b[1;32m---> 59\u001b[1;33m     tensors = pywrap_tfe.TFE_Py_Execute(ctx._handle, device_name, op_name,\n\u001b[0m\u001b[0;32m     60\u001b[0m                                         inputs, attrs, num_outputs)\n\u001b[0;32m     61\u001b[0m   \u001b[1;32mexcept\u001b[0m \u001b[0mcore\u001b[0m\u001b[1;33m.\u001b[0m\u001b[0m_NotOkStatusException\u001b[0m \u001b[1;32mas\u001b[0m \u001b[0me\u001b[0m\u001b[1;33m:\u001b[0m\u001b[1;33m\u001b[0m\u001b[1;33m\u001b[0m\u001b[0m\n",
      "\u001b[1;31mKeyboardInterrupt\u001b[0m: "
     ]
    }
   ],
   "source": [
    "lists = []\n",
    "for i in range(1):\n",
    "    lists.append(0)\n",
    "df2 = pd.DataFrame({\"avg\":lists})\n",
    "data_prediction = data\n",
    "data_prediction = data_prediction.append(df2, ignore_index = True)  #put one 0 to the end of the dataframe, we want to predict for one day\n",
    "\n",
    "X_predict = np.array(data_prediction['avg']) #create the numpy array from data\n",
    "X_pred_max = np.max(X_predict)\n",
    "X_pred_min = np.min(X_predict)\n",
    "X_predict = (X_predict-X_pred_min) /(X_pred_max-X_pred_min)\n",
    "window_size = 5\n",
    "pred_list = []\n",
    "\n",
    "\n",
    "\n",
    "for i in range(36): #we want to predict in total for 36 days\n",
    "    def evaluate_timeseries(timeseries, window_size, valid_split=0.2, test_split=0.15):\n",
    "        filter_length = 4\n",
    "        nb_filter = 20\n",
    "        timeseries = np.atleast_2d(timeseries)\n",
    "        if timeseries.shape[0] == 1:\n",
    "            timeseries = timeseries.T       \n",
    "        nb_samples, nb_series = timeseries.shape\n",
    "        model = make_1d_convnet(window_size=window_size, filter_length=filter_length, nb_input_series=nb_series, nb_outputs=nb_series, nb_filter=nb_filter)\n",
    "        X, Y = make_timeseries_instances(timeseries, window_size)\n",
    "\n",
    "        X_train, Y_train = X[:280+i], Y[:280+i] #we shift the test set every step\n",
    "        X_test, Y_test   = X[280+i:], Y[280+i:]\n",
    "\n",
    "        model.fit(X_train, Y_train, epochs=200, batch_size=16, verbose=0)\n",
    "\n",
    "        preds   = model.predict(X_test)\n",
    "        return Y_test, preds\n",
    "    \n",
    "    targets, preds = evaluate_timeseries(X_predict, window_size) #create prediction\n",
    "    data_prediction = data\n",
    "    print(date[i], ': ', (preds[-1][0])*(X_pred_max-X_pred_min)+X_pred_min) #print out the prediction\n",
    "    pred_list.append((preds[-1][0])*(X_pred_max-X_pred_min)+X_pred_min) #pred_list contains all the predictions\n",
    "    df3 = pd.DataFrame({\"avg\":pred_list})\n",
    "    data_prediction = data_prediction.append(df3, ignore_index = True) #we put the pred_list to the raw data with a new 0 element\n",
    "    lists = [0]\n",
    "    df2 = pd.DataFrame({\"avg\":lists})\n",
    "    data_prediction = data_prediction.append(df2, ignore_index = True)\n",
    "    X_predict = np.array(data_prediction['avg'])\n",
    "    X_pred_max = np.max(X_predict)\n",
    "    X_pred_min = np.min(X_predict)\n",
    "    X_predict = (X_predict-X_pred_min) /(X_pred_max-X_pred_min)\n",
    "    \n",
    "    \n",
    " \n"
   ]
  },
  {
   "cell_type": "markdown",
   "metadata": {},
   "source": [
    "As we can see the predictions not good, because it is almost impossible to have 15 celsius mean temperature in the middle of November. Maybe it is because of the last time, when temperature is rising now, and it don't have data from last years."
   ]
  },
  {
   "cell_type": "markdown",
   "metadata": {},
   "source": [
    "# For 28 Oct it predicts: 13.41\n",
    "\n",
    "# For 3 Nov it predicts: 14.5\n",
    "\n",
    "# For 24 Nov it predicts 14.9"
   ]
  }
 ],
 "metadata": {
  "kernelspec": {
   "display_name": "Python 3",
   "language": "python",
   "name": "python3"
  },
  "language_info": {
   "codemirror_mode": {
    "name": "ipython",
    "version": 3
   },
   "file_extension": ".py",
   "mimetype": "text/x-python",
   "name": "python",
   "nbconvert_exporter": "python",
   "pygments_lexer": "ipython3",
   "version": "3.8.3"
  }
 },
 "nbformat": 4,
 "nbformat_minor": 4
}
